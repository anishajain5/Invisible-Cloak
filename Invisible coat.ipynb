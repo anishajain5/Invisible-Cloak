{
 "cells": [
  {
   "cell_type": "code",
   "execution_count": 2,
   "metadata": {},
   "outputs": [],
   "source": [
    "import cv2\n",
    "\n",
    "\n",
    "cap= cv2.VideoCapture(0)\n",
    "\n",
    "while cap.isOpened():\n",
    "    ret, back= cap.read()\n",
    "    if ret:\n",
    "        cv2.imshow(\"image\",back)\n",
    "        if cv2.waitKey(5)==ord('q'):\n",
    "            cv2.imwrite('image.jpg',back)\n",
    "            break\n",
    "\n",
    "cap.release()\n",
    "cv2.destroyAllWindows()"
   ]
  },
  {
   "cell_type": "code",
   "execution_count": 10,
   "metadata": {},
   "outputs": [],
   "source": [
    "import numpy as np\n",
    "cap=cv2.VideoCapture(0)\n",
    "back= cv2.imread('./image.jpg')\n",
    "\n",
    "while cap.isOpened():\n",
    "    ret,frame=cap.read()\n",
    "    \n",
    "    if ret:\n",
    "        hsv= cv2.cvtColor(frame, cv2.COLOR_BGR2HSV)\n",
    "        #cv2.imshow(\"hsv\",hsv)\n",
    "        #get hsv value lower: hue-10, 100 100 higher: hue+10, 255 255\n",
    "        red= np.uint8([[[0,0,255]]])#bgr value of red\n",
    "        hsv_red=cv2.cvtColor(red, cv2.COLOR_BGR2HSV)\n",
    "        \n",
    "        l_red= np.array([0,100,100])\n",
    "        u_red= np.array([10,255,255])\n",
    "        \n",
    "        mask=cv2.inRange(hsv, l_red, u_red)\n",
    "         #cv2.imshow(\"mask\",mask)\n",
    "            #part1 is all things red\n",
    "        part1=cv2.bitwise_and(back, back, mask=mask)\n",
    "        #cv2.imshow(\"part1\",part1)\n",
    "        \n",
    "        mask=cv2.bitwise_not(mask)\n",
    "        #all things not red\n",
    "        part2= cv2.bitwise_and(frame,frame, mask=mask)\n",
    "        #cv2.imshow(\"part2\",part2)\n",
    "        \n",
    "        cv2.imshow(\"cloak\", part1+part2)\n",
    "       \n",
    "        if cv2.waitKey(5)==ord('q'):\n",
    "            \n",
    "            break\n",
    "\n",
    "cap.release()\n",
    "cv2.destroyAllWindows()"
   ]
  },
  {
   "cell_type": "code",
   "execution_count": null,
   "metadata": {},
   "outputs": [],
   "source": []
  }
 ],
 "metadata": {
  "kernelspec": {
   "display_name": "Python 3.6.5 64-bit ('Vinod': virtualenv)",
   "language": "python",
   "name": "python36564bitvinodvirtualenv4b53f92ccde74dd29aef20cb28f92e3b"
  },
  "language_info": {
   "codemirror_mode": {
    "name": "ipython",
    "version": 3
   },
   "file_extension": ".py",
   "mimetype": "text/x-python",
   "name": "python",
   "nbconvert_exporter": "python",
   "pygments_lexer": "ipython3",
   "version": "3.6.10"
  }
 },
 "nbformat": 4,
 "nbformat_minor": 4
}
